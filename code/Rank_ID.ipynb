{
 "cells": [
  {
   "cell_type": "code",
   "execution_count": 2,
   "metadata": {},
   "outputs": [
    {
     "name": "stdout",
     "output_type": "stream",
     "text": [
      "✅ 群體ID依Shape_Area大小排序完成！\n"
     ]
    }
   ],
   "source": [
    "import arcpy\n",
    "\n",
    "# === 參數設定 ===\n",
    "fc = r\"D:\\ArcGIS\\Morpho_Spatial_Demography\\MSD_Hawaii.gdb\\k2b_2508_corals\"  # 要素類路徑\n",
    "field_area = \"Shape_Area\"\n",
    "field_rank = \"Temp_ID\"  # 要新增或更新的欄位名稱\n",
    "\n",
    "# === 若沒有欄位就新增一個整數欄位 ===\n",
    "fields = [f.name for f in arcpy.ListFields(fc)]\n",
    "if field_rank not in fields:\n",
    "    arcpy.AddField_management(fc, field_rank, \"LONG\")\n",
    "\n",
    "# === 讀取所有 Shape_Area 值和 ObjectID ===\n",
    "area_dict = {oid: area for oid, area in arcpy.da.SearchCursor(fc, [\"OID@\", field_area])}\n",
    "\n",
    "# === 按照面積排序（由大到小） ===\n",
    "sorted_oids = sorted(area_dict.keys(), key=lambda x: area_dict[x], reverse=True)\n",
    "\n",
    "# === 建立 rank 對照表 ===\n",
    "rank_dict = {oid: i + 1 for i, oid in enumerate(sorted_oids)}\n",
    "\n",
    "# === 寫入 rank 值 ===\n",
    "with arcpy.da.UpdateCursor(fc, [\"OID@\", field_rank]) as cursor:\n",
    "    for oid, _ in cursor:\n",
    "        cursor.updateRow((oid, rank_dict[oid]))\n",
    "\n",
    "print(\"✅ 群體ID依Shape_Area大小排序完成！\")\n"
   ]
  }
 ],
 "metadata": {
  "kernelspec": {
   "display_name": "ArcGISPro",
   "language": "python",
   "name": "python3"
  },
  "language_info": {
   "file_extension": ".py",
   "mimetype": "text/x-python",
   "name": "python",
   "version": "3.11.10"
  }
 },
 "nbformat": 4,
 "nbformat_minor": 4
}
