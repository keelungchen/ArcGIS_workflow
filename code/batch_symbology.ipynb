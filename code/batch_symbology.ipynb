{
 "cells": [
  {
   "cell_type": "code",
   "execution_count": 20,
   "metadata": {},
   "outputs": [
    {
     "name": "stdout",
     "output_type": "stream",
     "text": [
      "完成套用符號系統！\n"
     ]
    }
   ],
   "source": [
    "import arcpy\n",
    "\n",
    "# 開啟目前專案與地圖\n",
    "aprx = arcpy.mp.ArcGISProject(\"CURRENT\")\n",
    "m = aprx.listMaps(\"Animation\")[0]  #改成地圖名字\n",
    "\n",
    "# 指定群組圖層名稱與範本圖層名稱\n",
    "group_name = \"p\"\n",
    "template_name = \"sam_noholes_Z1\"\n",
    "\n",
    "# 找到範本圖層\n",
    "sym_layer = m.listLayers(template_name)[0]\n",
    "\n",
    "# 找到群組圖層\n",
    "group_layer = [lyr for lyr in m.listLayers() if lyr.isGroupLayer and lyr.name == group_name][0]\n",
    "\n",
    "# 對群組內所有圖層套用符號\n",
    "for lyr in group_layer.listLayers():\n",
    "    if lyr.name != template_name:\n",
    "        arcpy.management.ApplySymbologyFromLayer(lyr, sym_layer)\n",
    "\n",
    "print(\"完成套用符號系統！\")\n"
   ]
  }
 ],
 "metadata": {
  "kernelspec": {
   "display_name": "ArcGISPro",
   "language": "python",
   "name": "python3"
  },
  "language_info": {
   "file_extension": ".py",
   "mimetype": "text/x-python",
   "name": "python",
   "version": "3.11.10"
  }
 },
 "nbformat": 4,
 "nbformat_minor": 4
}
