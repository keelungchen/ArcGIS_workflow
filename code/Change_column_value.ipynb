{
 "cells": [
  {
   "cell_type": "code",
   "execution_count": 11,
   "metadata": {},
   "outputs": [
    {
     "name": "stdout",
     "output_type": "stream",
     "text": [
      "✅ 已更新 554 筆，未匹配 24 筆。\n"
     ]
    }
   ],
   "source": [
    "import arcpy\n",
    "\n",
    "# === 基本設定 ===\n",
    "fc = r\"D:\\ArcGIS\\Morpho_Spatial_Demography\\DL_training.gdb\\k2b_2025_DL_sample\"\n",
    "field_A = \"Species\"   # 來源欄位\n",
    "field_B = \"Forms\"     # 目標欄位\n",
    "\n",
    "# === 若 B 欄位不存在則新增 ===\n",
    "fields = [f.name for f in arcpy.ListFields(fc)]\n",
    "if field_B not in fields:\n",
    "    arcpy.management.AddField(fc, field_B, \"TEXT\", field_length=10)\n",
    "\n",
    "# === 對應表 ===\n",
    "mapping = {\n",
    "    \"plic\": \"en\",\n",
    "    \"pc\":   \"di\",\n",
    "    \"mc\":   \"br\",\n",
    "    \"pacu\": \"cb\",\n",
    "    \"coce\": \"en\",\n",
    "    \"pm\":   \"ma\"\n",
    "}\n",
    "\n",
    "# === 更新欄位 ===\n",
    "updated = 0\n",
    "skipped = 0\n",
    "\n",
    "with arcpy.da.UpdateCursor(fc, [field_A, field_B]) as cursor:\n",
    "    for a, b in cursor:\n",
    "        key = (a or \"\").strip().lower()\n",
    "        new_val = mapping.get(key)\n",
    "        if new_val:\n",
    "            cursor.updateRow([a, new_val])\n",
    "            updated += 1\n",
    "        else:\n",
    "            skipped += 1\n",
    "\n",
    "print(f\"✅ 已更新 {updated} 筆，未匹配 {skipped} 筆。\")\n"
   ]
  }
 ],
 "metadata": {
  "kernelspec": {
   "display_name": "ArcGISPro",
   "language": "python",
   "name": "python3"
  },
  "language_info": {
   "file_extension": ".py",
   "mimetype": "text/x-python",
   "name": "python",
   "version": "3.11.10"
  }
 },
 "nbformat": 4,
 "nbformat_minor": 4
}
