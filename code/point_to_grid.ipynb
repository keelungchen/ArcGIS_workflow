{
 "cells": [
  {
   "cell_type": "code",
   "execution_count": 7,
   "metadata": {},
   "outputs": [
    {
     "name": "stdout",
     "output_type": "stream",
     "text": [
      "專案路徑： D:\\ArcGIS\\AI_training\\AI_training.aprx\n",
      "預設 gdb： D:\\ArcGIS\\AI_training\\AI_training.gdb\n",
      "專案資料夾： D:\\ArcGIS\\AI_training\n",
      "目前 Map 名稱: KBay\n",
      "圖層空間參考: WGS_1984_UTM_Zone_4N 32604\n"
     ]
    }
   ],
   "source": [
    "import arcpy\n",
    "\n",
    "# 取得目前開啟的 ArcGIS Pro 專案\n",
    "aprx = arcpy.mp.ArcGISProject(\"CURRENT\")\n",
    "\n",
    "print(\"專案路徑：\", aprx.filePath)              # .aprx 檔案完整路徑\n",
    "print(\"預設 gdb：\", aprx.defaultGeodatabase)   # 預設的 geodatabase\n",
    "print(\"專案資料夾：\", aprx.homeFolder)         # 專案所在的資料夾 (home folder)\n",
    "\n",
    "# 取得目前活動的 Map (通常就是你 ArcGIS Pro 視窗左邊的那個)\n",
    "m = aprx.activeMap\n",
    "\n",
    "print(\"目前 Map 名稱:\", m.name)\n",
    "\n",
    "sr = m.spatialReference\n",
    "print(\"圖層空間參考:\", sr.name, sr.factoryCode)"
   ]
  },
  {
   "cell_type": "code",
   "execution_count": 1,
   "metadata": {},
   "outputs": [
    {
     "name": "stdout",
     "output_type": "stream",
     "text": [
      "矩形建立完成: north_reef1_plot_8m\n"
     ]
    }
   ],
   "source": [
    "#### 以中心點建立矩形\n",
    "\n",
    "# ==== 先設定輸出檔案 ====\n",
    "out_file = \"north_reef1_plot_8m\"\n",
    "\n",
    "# ==== 輸入參數 ====\n",
    "lat = -14.645378   # 緯度 \n",
    "lon = 145.45491  # 經度\n",
    "side_len = 8    # 邊長 (公尺)\n",
    "\n",
    "# 空間參考：輸入經緯度 (WGS84)，再投影到合適的平面座標系統 (例如 UTM Zone 51N)\n",
    "sr_wgs84 = arcpy.SpatialReference(4326)\n",
    "sr_proj = arcpy.SpatialReference(32755)  # 請依實際區域調整\n",
    "\n",
    "# 中心點 (經緯度)\n",
    "center_point = arcpy.PointGeometry(arcpy.Point(lon, lat), sr_wgs84)\n",
    "\n",
    "# 投影到平面座標系統\n",
    "center_proj = center_point.projectAs(sr_proj)\n",
    "\n",
    "# 計算半邊長\n",
    "half_side = side_len / 2.0\n",
    "x, y = center_proj.centroid.X, center_proj.centroid.Y\n",
    "\n",
    "# 建立矩形的 polygon\n",
    "array = arcpy.Array([\n",
    "    arcpy.Point(x - half_side, y - half_side),\n",
    "    arcpy.Point(x - half_side, y + half_side),\n",
    "    arcpy.Point(x + half_side, y + half_side),\n",
    "    arcpy.Point(x + half_side, y - half_side),\n",
    "    arcpy.Point(x - half_side, y - half_side)  # 關閉圖形\n",
    "])\n",
    "rect_polygon = arcpy.Polygon(array, sr_proj)\n",
    "\n",
    "# ==== 輸出 ====\n",
    "arcpy.CopyFeatures_management(rect_polygon, out_file)\n",
    "\n",
    "print(\"矩形建立完成:\", out_file)\n"
   ]
  },
  {
   "cell_type": "code",
   "execution_count": 2,
   "metadata": {},
   "outputs": [
    {
     "name": "stdout",
     "output_type": "stream",
     "text": [
      "完成！輸出： north_reef1_grid_2m\n"
     ]
    }
   ],
   "source": [
    "###輸出plot中的網格\n",
    "\n",
    "import arcpy\n",
    "import math\n",
    "import os\n",
    "\n",
    "arcpy.env.overwriteOutput = True  # 同名覆蓋\n",
    "arcpy.env.addOutputsToMap = True  # 自動加到地圖\n",
    "\n",
    "# ====== 參數 ======\n",
    "in_fc    = \"north_reef1_plot_8m\"   # 輸入 Polygon (圖層或要素類別)\n",
    "side_len = 2                            # 每格邊長 (公尺)\n",
    "out_fc   = \"north_reef1_grid_2m\" # 輸出 (可用只寫檔名 + 設定 arcpy.env.workspace)\n",
    "\n",
    "scratch  = arcpy.env.scratchGDB             # 暫存資料放這\n",
    "\n",
    "# 暫存路徑\n",
    "fishnet_fc  = os.path.join(scratch, \"fishnet_tmp\")\n",
    "clipped_fc  = os.path.join(scratch, \"grid_clip_tmp\")\n",
    "\n",
    "# 刪除舊暫存\n",
    "for tmp in [fishnet_fc, clipped_fc]:\n",
    "    if arcpy.Exists(tmp):\n",
    "        arcpy.management.Delete(tmp)\n",
    "\n",
    "# 1) 取得範圍\n",
    "ext = arcpy.Describe(in_fc).extent\n",
    "origin_coord = f\"{ext.XMin} {ext.YMin}\"\n",
    "y_axis_coord = f\"{ext.XMin} {ext.YMin + 1}\"\n",
    "opp_corner   = f\"{ext.XMax} {ext.YMax}\"\n",
    "\n",
    "# 2) 建立 fishnet\n",
    "arcpy.management.CreateFishnet(\n",
    "    out_feature_class=fishnet_fc,\n",
    "    origin_coord=origin_coord,\n",
    "    y_axis_coord=y_axis_coord,\n",
    "    cell_width=side_len,\n",
    "    cell_height=side_len,\n",
    "    number_rows=None,\n",
    "    number_columns=None,\n",
    "    corner_coord=opp_corner,\n",
    "    labels=\"NO_LABELS\",\n",
    "    template=in_fc,\n",
    "    geometry_type=\"POLYGON\"\n",
    ")\n",
    "\n",
    "# 3) Clip 到原 Polygon\n",
    "arcpy.analysis.Clip(fishnet_fc, in_fc, clipped_fc)\n",
    "\n",
    "# 4) 複製到最終輸出\n",
    "arcpy.management.CopyFeatures(clipped_fc, out_fc)\n",
    "print(\"完成！輸出：\", out_fc)\n",
    "\n",
    "# 5) 清理暫存\n",
    "for tmp in [fishnet_fc, clipped_fc]:\n",
    "    if arcpy.Exists(tmp):\n",
    "        arcpy.management.Delete(tmp)\n",
    "\n",
    "# 6) 如果 ArcGIS 已經把暫存圖層加到地圖，從 activeMap 移掉它們\n",
    "aprx = arcpy.mp.ArcGISProject(\"CURRENT\")\n",
    "m = aprx.activeMap\n",
    "for name in [\"fishnet_tmp\", \"grid_clip_tmp\"]:\n",
    "    for lyr in m.listLayers(name):\n",
    "        m.removeLayer(lyr)\n"
   ]
  },
  {
   "cell_type": "code",
   "execution_count": 3,
   "metadata": {},
   "outputs": [
    {
     "name": "stdout",
     "output_type": "stream",
     "text": [
      "完成！欄位 Zone 已依左下→右上編號（覆寫原有值），共 16 筆。\n"
     ]
    }
   ],
   "source": [
    "import arcpy\n",
    "import os\n",
    "\n",
    "arcpy.env.overwriteOutput = True\n",
    "\n",
    "# === 參數 ===\n",
    "fc = \"north_reef1_grid_2m\"  # 輸入：包含多個小矩形的 Polygon 要素類別\n",
    "seq_field = \"Zone\"             # 欄位名稱\n",
    "start_no = 1                  # 起始編號\n",
    "use_true_centroid = True  # 用 SHAPE@TRUECENTROID；若要 SHAPE@XY 就改 False\n",
    "\n",
    "# 若欄位不存在就新增；存在則直接覆寫內容\n",
    "if seq_field not in [f.name for f in arcpy.ListFields(fc)]:\n",
    "    arcpy.management.AddField(fc, seq_field, \"LONG\")\n",
    "\n",
    "# 1) 取質心\n",
    "rows = []  # (OID, y, x)\n",
    "centroid_token = \"SHAPE@TRUECENTROID\" if use_true_centroid else \"SHAPE@XY\"\n",
    "\n",
    "with arcpy.da.SearchCursor(fc, [\"OID@\", centroid_token]) as cur:\n",
    "    for oid, centroid in cur:\n",
    "        x, y = centroid\n",
    "        rows.append((oid, y, x))\n",
    "\n",
    "# 2) 左下 → 右上排序（先 Y，再 X，最後 OID 防止平手不定序）\n",
    "rows_sorted = sorted(rows, key=lambda t: (t[1], t[2], t[0]))\n",
    "\n",
    "# 3) 建立 OID → 序號 對照\n",
    "oid_to_seq = {}\n",
    "seq = start_no\n",
    "for oid, _, _ in rows_sorted:\n",
    "    oid_to_seq[oid] = seq\n",
    "    seq += 1\n",
    "\n",
    "# 4) 回寫（覆寫欄位值）\n",
    "oid_field = arcpy.Describe(fc).OIDFieldName\n",
    "with arcpy.da.UpdateCursor(fc, [oid_field, seq_field]) as ucur:\n",
    "    for row in ucur:\n",
    "        oid = row[0]\n",
    "        row[1] = oid_to_seq.get(oid)   # 不管原來有沒有值，直接覆寫\n",
    "        ucur.updateRow(row)\n",
    "\n",
    "print(f\"完成！欄位 {seq_field} 已依左下→右上編號（覆寫原有值），共 {len(rows_sorted)} 筆。\")"
   ]
  }
 ],
 "metadata": {
  "kernelspec": {
   "display_name": "ArcGISPro",
   "language": "python",
   "name": "python3"
  },
  "language_info": {
   "file_extension": ".py",
   "mimetype": "text/x-python",
   "name": "python",
   "version": "3.11.10"
  }
 },
 "nbformat": 4,
 "nbformat_minor": 4
}
