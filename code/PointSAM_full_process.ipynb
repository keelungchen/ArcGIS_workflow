{
 "cells": [
  {
   "cell_type": "code",
   "execution_count": 7,
   "metadata": {},
   "outputs": [
    {
     "name": "stdout",
     "output_type": "stream",
     "text": [
      "專案路徑： D:\\ArcGIS\\AI_training\\AI_training.aprx\n",
      "預設 gdb： D:\\ArcGIS\\AI_training\\AI_training.gdb\n",
      "專案資料夾： D:\\ArcGIS\\AI_training\n",
      "目前 Map 名稱: Lizard\n",
      "Map 空間參考: Transverse_Mercator 0\n",
      "Python 可執行檔： C:\\Program Files\\ArcGIS\\Pro\\bin\\ArcGISPro.exe\n",
      "Conda 環境路徑： C:\\Users\\keelu\\AppData\\Local\\ESRI\\conda\\envs\\geo\n",
      "將處理以下配對序號： ['01', '02', '03', '04', '05', '06', '07', '08', '09', '10', '11', '12', '13', '14', '15', '16']\n",
      "\n",
      "========== 開始處理序號 01 ==========\n",
      "影像： D:\\SfM_coral_reefs_product\\Lizard_island\\LIRS_competition_t1_DMW\\Orthos\\ortho_splits\\ortho_split_01.tif\n",
      "點圖層： D:\\ArcGIS\\AI_training\\split_points.gdb\\T1\n",
      "[01] 點數量：249，CRS：EPSG:32755 (EPSG=32755)\n"
     ]
    },
    {
     "name": "stderr",
     "output_type": "stream",
     "text": [
      "C:\\Users\\keelu\\AppData\\Local\\ESRI\\conda\\envs\\geo\\Lib\\site-packages\\torch\\_utils.py:776: UserWarning: TypedStorage is deprecated. It will be removed in the future and UntypedStorage will be the only storage class. This should only matter to you if you are using storages directly.  To access UntypedStorage directly, use tensor.untyped_storage() instead of tensor.storage()\n",
      "  return self.fget.__get__(instance, owner)()\n",
      "C:\\Users\\keelu\\AppData\\Local\\ESRI\\conda\\envs\\geo\\Lib\\site-packages\\torchvision\\transforms\\functional.py:1603: UserWarning: The default value of the antialias parameter of all the resizing transforms (Resize(), RandomResizedCrop(), etc.) will change from None to True in v0.17, in order to be consistent across the PIL and Tensor backends. To suppress this warning, directly pass antialias=True (recommended, future default), antialias=None (current default, which means False for Tensors and True for PIL), or antialias=False (only works on Tensors - PIL will still use antialiasing). This also applies if you are using the inference transforms from the models weights: update the call to weights.transforms(antialias=True).\n",
      "  warnings.warn(\n",
      "C:\\Users\\keelu\\AppData\\Local\\ESRI\\conda\\envs\\geo\\Lib\\site-packages\\torch\\nn\\modules\\module.py:1501: UserWarning: operator () profile_node %332 : int = prim::profile_ivalue(%out_dtype.1)\n",
      " does not have profile information (Triggered internally at C:\\cb\\pytorch_1000000000000\\work\\third_party\\nvfuser\\csrc\\graph_fuser.cpp:108.)\n",
      "  return forward_call(*args, **kwargs)\n",
      "C:\\Users\\keelu\\AppData\\Local\\ESRI\\conda\\envs\\geo\\Lib\\site-packages\\torchvision\\transforms\\functional.py:1603: UserWarning: The default value of the antialias parameter of all the resizing transforms (Resize(), RandomResizedCrop(), etc.) will change from None to True in v0.17, in order to be consistent across the PIL and Tensor backends. To suppress this warning, directly pass antialias=True (recommended, future default), antialias=None (current default, which means False for Tensors and True for PIL), or antialias=False (only works on Tensors - PIL will still use antialiasing). This also applies if you are using the inference transforms from the models weights: update the call to weights.transforms(antialias=True).\n",
      "  warnings.warn(\n"
     ]
    },
    {
     "name": "stdout",
     "output_type": "stream",
     "text": [
      "[01] 已輸出遮罩：D:\\ArcGIS\\AI_training\\masks\\mask_01.tif\n",
      "[01] RasterToPolygon 輸出：D:\\ArcGIS\\AI_training\\geosam_output.gdb\\sam_shpraw_Z1\n",
      "[01] SpatialJoin 完成：D:\\ArcGIS\\AI_training\\shp_filtered.gdb\\sam_filtered_Z1\n",
      "[01] 已刪除小面積 12 筆，刪除最大面積 1 筆。\n",
      "[01] 填洞完成（< 0.0005 的洞）：D:\\ArcGIS\\AI_training\\shp_filtered.gdb\\sam_noholes_Z1\n",
      "[01] ✅ 完成\n",
      "\n",
      "========== 開始處理序號 02 ==========\n",
      "影像： D:\\SfM_coral_reefs_product\\Lizard_island\\LIRS_competition_t1_DMW\\Orthos\\ortho_splits\\ortho_split_02.tif\n",
      "點圖層： D:\\ArcGIS\\AI_training\\split_points.gdb\\T2\n",
      "[02] 點數量：171，CRS：EPSG:32755 (EPSG=32755)\n"
     ]
    },
    {
     "name": "stderr",
     "output_type": "stream",
     "text": [
      "C:\\Users\\keelu\\AppData\\Local\\ESRI\\conda\\envs\\geo\\Lib\\site-packages\\torchvision\\transforms\\functional.py:1603: UserWarning: The default value of the antialias parameter of all the resizing transforms (Resize(), RandomResizedCrop(), etc.) will change from None to True in v0.17, in order to be consistent across the PIL and Tensor backends. To suppress this warning, directly pass antialias=True (recommended, future default), antialias=None (current default, which means False for Tensors and True for PIL), or antialias=False (only works on Tensors - PIL will still use antialiasing). This also applies if you are using the inference transforms from the models weights: update the call to weights.transforms(antialias=True).\n",
      "  warnings.warn(\n",
      "C:\\Users\\keelu\\AppData\\Local\\ESRI\\conda\\envs\\geo\\Lib\\site-packages\\torchvision\\transforms\\functional.py:1603: UserWarning: The default value of the antialias parameter of all the resizing transforms (Resize(), RandomResizedCrop(), etc.) will change from None to True in v0.17, in order to be consistent across the PIL and Tensor backends. To suppress this warning, directly pass antialias=True (recommended, future default), antialias=None (current default, which means False for Tensors and True for PIL), or antialias=False (only works on Tensors - PIL will still use antialiasing). This also applies if you are using the inference transforms from the models weights: update the call to weights.transforms(antialias=True).\n",
      "  warnings.warn(\n"
     ]
    },
    {
     "name": "stdout",
     "output_type": "stream",
     "text": [
      "[02] 已輸出遮罩：D:\\ArcGIS\\AI_training\\masks\\mask_02.tif\n",
      "[02] RasterToPolygon 輸出：D:\\ArcGIS\\AI_training\\geosam_output.gdb\\sam_shpraw_Z2\n",
      "[02] SpatialJoin 完成：D:\\ArcGIS\\AI_training\\shp_filtered.gdb\\sam_filtered_Z2\n",
      "[02] 已刪除小面積 1 筆，刪除最大面積 1 筆。\n",
      "[02] 填洞完成（< 0.0005 的洞）：D:\\ArcGIS\\AI_training\\shp_filtered.gdb\\sam_noholes_Z2\n",
      "[02] ✅ 完成\n",
      "\n",
      "========== 開始處理序號 03 ==========\n",
      "影像： D:\\SfM_coral_reefs_product\\Lizard_island\\LIRS_competition_t1_DMW\\Orthos\\ortho_splits\\ortho_split_03.tif\n",
      "點圖層： D:\\ArcGIS\\AI_training\\split_points.gdb\\T3\n",
      "[03] 點數量：219，CRS：EPSG:32755 (EPSG=32755)\n"
     ]
    },
    {
     "name": "stderr",
     "output_type": "stream",
     "text": [
      "C:\\Users\\keelu\\AppData\\Local\\ESRI\\conda\\envs\\geo\\Lib\\site-packages\\torchvision\\transforms\\functional.py:1603: UserWarning: The default value of the antialias parameter of all the resizing transforms (Resize(), RandomResizedCrop(), etc.) will change from None to True in v0.17, in order to be consistent across the PIL and Tensor backends. To suppress this warning, directly pass antialias=True (recommended, future default), antialias=None (current default, which means False for Tensors and True for PIL), or antialias=False (only works on Tensors - PIL will still use antialiasing). This also applies if you are using the inference transforms from the models weights: update the call to weights.transforms(antialias=True).\n",
      "  warnings.warn(\n",
      "C:\\Users\\keelu\\AppData\\Local\\ESRI\\conda\\envs\\geo\\Lib\\site-packages\\torchvision\\transforms\\functional.py:1603: UserWarning: The default value of the antialias parameter of all the resizing transforms (Resize(), RandomResizedCrop(), etc.) will change from None to True in v0.17, in order to be consistent across the PIL and Tensor backends. To suppress this warning, directly pass antialias=True (recommended, future default), antialias=None (current default, which means False for Tensors and True for PIL), or antialias=False (only works on Tensors - PIL will still use antialiasing). This also applies if you are using the inference transforms from the models weights: update the call to weights.transforms(antialias=True).\n",
      "  warnings.warn(\n"
     ]
    },
    {
     "name": "stdout",
     "output_type": "stream",
     "text": [
      "[03] 已輸出遮罩：D:\\ArcGIS\\AI_training\\masks\\mask_03.tif\n",
      "[03] RasterToPolygon 輸出：D:\\ArcGIS\\AI_training\\geosam_output.gdb\\sam_shpraw_Z3\n",
      "[03] SpatialJoin 完成：D:\\ArcGIS\\AI_training\\shp_filtered.gdb\\sam_filtered_Z3\n",
      "[03] 已刪除小面積 1 筆，刪除最大面積 1 筆。\n",
      "[03] 填洞完成（< 0.0005 的洞）：D:\\ArcGIS\\AI_training\\shp_filtered.gdb\\sam_noholes_Z3\n",
      "[03] ✅ 完成\n",
      "\n",
      "========== 開始處理序號 04 ==========\n",
      "影像： D:\\SfM_coral_reefs_product\\Lizard_island\\LIRS_competition_t1_DMW\\Orthos\\ortho_splits\\ortho_split_04.tif\n",
      "點圖層： D:\\ArcGIS\\AI_training\\split_points.gdb\\T4\n",
      "[04] 點數量：149，CRS：EPSG:32755 (EPSG=32755)\n"
     ]
    },
    {
     "name": "stderr",
     "output_type": "stream",
     "text": [
      "C:\\Users\\keelu\\AppData\\Local\\ESRI\\conda\\envs\\geo\\Lib\\site-packages\\torchvision\\transforms\\functional.py:1603: UserWarning: The default value of the antialias parameter of all the resizing transforms (Resize(), RandomResizedCrop(), etc.) will change from None to True in v0.17, in order to be consistent across the PIL and Tensor backends. To suppress this warning, directly pass antialias=True (recommended, future default), antialias=None (current default, which means False for Tensors and True for PIL), or antialias=False (only works on Tensors - PIL will still use antialiasing). This also applies if you are using the inference transforms from the models weights: update the call to weights.transforms(antialias=True).\n",
      "  warnings.warn(\n",
      "C:\\Users\\keelu\\AppData\\Local\\ESRI\\conda\\envs\\geo\\Lib\\site-packages\\torchvision\\transforms\\functional.py:1603: UserWarning: The default value of the antialias parameter of all the resizing transforms (Resize(), RandomResizedCrop(), etc.) will change from None to True in v0.17, in order to be consistent across the PIL and Tensor backends. To suppress this warning, directly pass antialias=True (recommended, future default), antialias=None (current default, which means False for Tensors and True for PIL), or antialias=False (only works on Tensors - PIL will still use antialiasing). This also applies if you are using the inference transforms from the models weights: update the call to weights.transforms(antialias=True).\n",
      "  warnings.warn(\n"
     ]
    },
    {
     "name": "stdout",
     "output_type": "stream",
     "text": [
      "[04] 已輸出遮罩：D:\\ArcGIS\\AI_training\\masks\\mask_04.tif\n",
      "[04] RasterToPolygon 輸出：D:\\ArcGIS\\AI_training\\geosam_output.gdb\\sam_shpraw_Z4\n",
      "[04] SpatialJoin 完成：D:\\ArcGIS\\AI_training\\shp_filtered.gdb\\sam_filtered_Z4\n",
      "[04] 已刪除小面積 1 筆，刪除最大面積 1 筆。\n",
      "[04] 填洞完成（< 0.0005 的洞）：D:\\ArcGIS\\AI_training\\shp_filtered.gdb\\sam_noholes_Z4\n",
      "[04] ✅ 完成\n",
      "\n",
      "========== 開始處理序號 05 ==========\n",
      "影像： D:\\SfM_coral_reefs_product\\Lizard_island\\LIRS_competition_t1_DMW\\Orthos\\ortho_splits\\ortho_split_05.tif\n",
      "點圖層： D:\\ArcGIS\\AI_training\\split_points.gdb\\T5\n",
      "[05] 點數量：166，CRS：EPSG:32755 (EPSG=32755)\n"
     ]
    },
    {
     "name": "stderr",
     "output_type": "stream",
     "text": [
      "C:\\Users\\keelu\\AppData\\Local\\ESRI\\conda\\envs\\geo\\Lib\\site-packages\\torchvision\\transforms\\functional.py:1603: UserWarning: The default value of the antialias parameter of all the resizing transforms (Resize(), RandomResizedCrop(), etc.) will change from None to True in v0.17, in order to be consistent across the PIL and Tensor backends. To suppress this warning, directly pass antialias=True (recommended, future default), antialias=None (current default, which means False for Tensors and True for PIL), or antialias=False (only works on Tensors - PIL will still use antialiasing). This also applies if you are using the inference transforms from the models weights: update the call to weights.transforms(antialias=True).\n",
      "  warnings.warn(\n",
      "C:\\Users\\keelu\\AppData\\Local\\ESRI\\conda\\envs\\geo\\Lib\\site-packages\\torchvision\\transforms\\functional.py:1603: UserWarning: The default value of the antialias parameter of all the resizing transforms (Resize(), RandomResizedCrop(), etc.) will change from None to True in v0.17, in order to be consistent across the PIL and Tensor backends. To suppress this warning, directly pass antialias=True (recommended, future default), antialias=None (current default, which means False for Tensors and True for PIL), or antialias=False (only works on Tensors - PIL will still use antialiasing). This also applies if you are using the inference transforms from the models weights: update the call to weights.transforms(antialias=True).\n",
      "  warnings.warn(\n"
     ]
    },
    {
     "name": "stdout",
     "output_type": "stream",
     "text": [
      "[05] 已輸出遮罩：D:\\ArcGIS\\AI_training\\masks\\mask_05.tif\n",
      "[05] RasterToPolygon 輸出：D:\\ArcGIS\\AI_training\\geosam_output.gdb\\sam_shpraw_Z5\n",
      "[05] SpatialJoin 完成：D:\\ArcGIS\\AI_training\\shp_filtered.gdb\\sam_filtered_Z5\n",
      "[05] 已刪除小面積 1 筆，刪除最大面積 1 筆。\n",
      "[05] 填洞完成（< 0.0005 的洞）：D:\\ArcGIS\\AI_training\\shp_filtered.gdb\\sam_noholes_Z5\n",
      "[05] ✅ 完成\n",
      "\n",
      "========== 開始處理序號 06 ==========\n",
      "影像： D:\\SfM_coral_reefs_product\\Lizard_island\\LIRS_competition_t1_DMW\\Orthos\\ortho_splits\\ortho_split_06.tif\n",
      "點圖層： D:\\ArcGIS\\AI_training\\split_points.gdb\\T6\n",
      "[06] 點數量：102，CRS：EPSG:32755 (EPSG=32755)\n"
     ]
    },
    {
     "name": "stderr",
     "output_type": "stream",
     "text": [
      "C:\\Users\\keelu\\AppData\\Local\\ESRI\\conda\\envs\\geo\\Lib\\site-packages\\torchvision\\transforms\\functional.py:1603: UserWarning: The default value of the antialias parameter of all the resizing transforms (Resize(), RandomResizedCrop(), etc.) will change from None to True in v0.17, in order to be consistent across the PIL and Tensor backends. To suppress this warning, directly pass antialias=True (recommended, future default), antialias=None (current default, which means False for Tensors and True for PIL), or antialias=False (only works on Tensors - PIL will still use antialiasing). This also applies if you are using the inference transforms from the models weights: update the call to weights.transforms(antialias=True).\n",
      "  warnings.warn(\n",
      "C:\\Users\\keelu\\AppData\\Local\\ESRI\\conda\\envs\\geo\\Lib\\site-packages\\torchvision\\transforms\\functional.py:1603: UserWarning: The default value of the antialias parameter of all the resizing transforms (Resize(), RandomResizedCrop(), etc.) will change from None to True in v0.17, in order to be consistent across the PIL and Tensor backends. To suppress this warning, directly pass antialias=True (recommended, future default), antialias=None (current default, which means False for Tensors and True for PIL), or antialias=False (only works on Tensors - PIL will still use antialiasing). This also applies if you are using the inference transforms from the models weights: update the call to weights.transforms(antialias=True).\n",
      "  warnings.warn(\n"
     ]
    },
    {
     "name": "stdout",
     "output_type": "stream",
     "text": [
      "[06] 已輸出遮罩：D:\\ArcGIS\\AI_training\\masks\\mask_06.tif\n",
      "[06] RasterToPolygon 輸出：D:\\ArcGIS\\AI_training\\geosam_output.gdb\\sam_shpraw_Z6\n",
      "[06] SpatialJoin 完成：D:\\ArcGIS\\AI_training\\shp_filtered.gdb\\sam_filtered_Z6\n",
      "[06] 已刪除小面積 1 筆，刪除最大面積 1 筆。\n",
      "[06] 填洞完成（< 0.0005 的洞）：D:\\ArcGIS\\AI_training\\shp_filtered.gdb\\sam_noholes_Z6\n",
      "[06] ✅ 完成\n",
      "\n",
      "========== 開始處理序號 07 ==========\n",
      "影像： D:\\SfM_coral_reefs_product\\Lizard_island\\LIRS_competition_t1_DMW\\Orthos\\ortho_splits\\ortho_split_07.tif\n",
      "點圖層： D:\\ArcGIS\\AI_training\\split_points.gdb\\T7\n",
      "[07] 點數量：129，CRS：EPSG:32755 (EPSG=32755)\n"
     ]
    },
    {
     "name": "stderr",
     "output_type": "stream",
     "text": [
      "C:\\Users\\keelu\\AppData\\Local\\ESRI\\conda\\envs\\geo\\Lib\\site-packages\\torchvision\\transforms\\functional.py:1603: UserWarning: The default value of the antialias parameter of all the resizing transforms (Resize(), RandomResizedCrop(), etc.) will change from None to True in v0.17, in order to be consistent across the PIL and Tensor backends. To suppress this warning, directly pass antialias=True (recommended, future default), antialias=None (current default, which means False for Tensors and True for PIL), or antialias=False (only works on Tensors - PIL will still use antialiasing). This also applies if you are using the inference transforms from the models weights: update the call to weights.transforms(antialias=True).\n",
      "  warnings.warn(\n",
      "C:\\Users\\keelu\\AppData\\Local\\ESRI\\conda\\envs\\geo\\Lib\\site-packages\\torchvision\\transforms\\functional.py:1603: UserWarning: The default value of the antialias parameter of all the resizing transforms (Resize(), RandomResizedCrop(), etc.) will change from None to True in v0.17, in order to be consistent across the PIL and Tensor backends. To suppress this warning, directly pass antialias=True (recommended, future default), antialias=None (current default, which means False for Tensors and True for PIL), or antialias=False (only works on Tensors - PIL will still use antialiasing). This also applies if you are using the inference transforms from the models weights: update the call to weights.transforms(antialias=True).\n",
      "  warnings.warn(\n"
     ]
    },
    {
     "name": "stdout",
     "output_type": "stream",
     "text": [
      "[07] 已輸出遮罩：D:\\ArcGIS\\AI_training\\masks\\mask_07.tif\n",
      "[07] RasterToPolygon 輸出：D:\\ArcGIS\\AI_training\\geosam_output.gdb\\sam_shpraw_Z7\n",
      "[07] SpatialJoin 完成：D:\\ArcGIS\\AI_training\\shp_filtered.gdb\\sam_filtered_Z7\n",
      "[07] 已刪除小面積 2 筆，刪除最大面積 1 筆。\n",
      "[07] 填洞完成（< 0.0005 的洞）：D:\\ArcGIS\\AI_training\\shp_filtered.gdb\\sam_noholes_Z7\n",
      "[07] ✅ 完成\n",
      "\n",
      "========== 開始處理序號 08 ==========\n",
      "影像： D:\\SfM_coral_reefs_product\\Lizard_island\\LIRS_competition_t1_DMW\\Orthos\\ortho_splits\\ortho_split_08.tif\n",
      "點圖層： D:\\ArcGIS\\AI_training\\split_points.gdb\\T8\n",
      "[08] 點數量：113，CRS：EPSG:32755 (EPSG=32755)\n"
     ]
    },
    {
     "name": "stderr",
     "output_type": "stream",
     "text": [
      "C:\\Users\\keelu\\AppData\\Local\\ESRI\\conda\\envs\\geo\\Lib\\site-packages\\torchvision\\transforms\\functional.py:1603: UserWarning: The default value of the antialias parameter of all the resizing transforms (Resize(), RandomResizedCrop(), etc.) will change from None to True in v0.17, in order to be consistent across the PIL and Tensor backends. To suppress this warning, directly pass antialias=True (recommended, future default), antialias=None (current default, which means False for Tensors and True for PIL), or antialias=False (only works on Tensors - PIL will still use antialiasing). This also applies if you are using the inference transforms from the models weights: update the call to weights.transforms(antialias=True).\n",
      "  warnings.warn(\n",
      "C:\\Users\\keelu\\AppData\\Local\\ESRI\\conda\\envs\\geo\\Lib\\site-packages\\torchvision\\transforms\\functional.py:1603: UserWarning: The default value of the antialias parameter of all the resizing transforms (Resize(), RandomResizedCrop(), etc.) will change from None to True in v0.17, in order to be consistent across the PIL and Tensor backends. To suppress this warning, directly pass antialias=True (recommended, future default), antialias=None (current default, which means False for Tensors and True for PIL), or antialias=False (only works on Tensors - PIL will still use antialiasing). This also applies if you are using the inference transforms from the models weights: update the call to weights.transforms(antialias=True).\n",
      "  warnings.warn(\n"
     ]
    },
    {
     "name": "stdout",
     "output_type": "stream",
     "text": [
      "[08] 已輸出遮罩：D:\\ArcGIS\\AI_training\\masks\\mask_08.tif\n",
      "[08] RasterToPolygon 輸出：D:\\ArcGIS\\AI_training\\geosam_output.gdb\\sam_shpraw_Z8\n",
      "[08] SpatialJoin 完成：D:\\ArcGIS\\AI_training\\shp_filtered.gdb\\sam_filtered_Z8\n",
      "[08] 已刪除小面積 2 筆，刪除最大面積 1 筆。\n",
      "[08] 填洞完成（< 0.0005 的洞）：D:\\ArcGIS\\AI_training\\shp_filtered.gdb\\sam_noholes_Z8\n",
      "[08] ✅ 完成\n",
      "\n",
      "========== 開始處理序號 09 ==========\n",
      "影像： D:\\SfM_coral_reefs_product\\Lizard_island\\LIRS_competition_t1_DMW\\Orthos\\ortho_splits\\ortho_split_09.tif\n",
      "點圖層： D:\\ArcGIS\\AI_training\\split_points.gdb\\T9\n",
      "[09] 點數量：104，CRS：EPSG:32755 (EPSG=32755)\n"
     ]
    },
    {
     "name": "stderr",
     "output_type": "stream",
     "text": [
      "C:\\Users\\keelu\\AppData\\Local\\ESRI\\conda\\envs\\geo\\Lib\\site-packages\\torchvision\\transforms\\functional.py:1603: UserWarning: The default value of the antialias parameter of all the resizing transforms (Resize(), RandomResizedCrop(), etc.) will change from None to True in v0.17, in order to be consistent across the PIL and Tensor backends. To suppress this warning, directly pass antialias=True (recommended, future default), antialias=None (current default, which means False for Tensors and True for PIL), or antialias=False (only works on Tensors - PIL will still use antialiasing). This also applies if you are using the inference transforms from the models weights: update the call to weights.transforms(antialias=True).\n",
      "  warnings.warn(\n",
      "C:\\Users\\keelu\\AppData\\Local\\ESRI\\conda\\envs\\geo\\Lib\\site-packages\\torchvision\\transforms\\functional.py:1603: UserWarning: The default value of the antialias parameter of all the resizing transforms (Resize(), RandomResizedCrop(), etc.) will change from None to True in v0.17, in order to be consistent across the PIL and Tensor backends. To suppress this warning, directly pass antialias=True (recommended, future default), antialias=None (current default, which means False for Tensors and True for PIL), or antialias=False (only works on Tensors - PIL will still use antialiasing). This also applies if you are using the inference transforms from the models weights: update the call to weights.transforms(antialias=True).\n",
      "  warnings.warn(\n"
     ]
    },
    {
     "name": "stdout",
     "output_type": "stream",
     "text": [
      "[09] 已輸出遮罩：D:\\ArcGIS\\AI_training\\masks\\mask_09.tif\n",
      "[09] RasterToPolygon 輸出：D:\\ArcGIS\\AI_training\\geosam_output.gdb\\sam_shpraw_Z9\n",
      "[09] SpatialJoin 完成：D:\\ArcGIS\\AI_training\\shp_filtered.gdb\\sam_filtered_Z9\n",
      "[09] 已刪除小面積 1 筆，刪除最大面積 1 筆。\n",
      "[09] 填洞完成（< 0.0005 的洞）：D:\\ArcGIS\\AI_training\\shp_filtered.gdb\\sam_noholes_Z9\n",
      "[09] ✅ 完成\n",
      "\n",
      "========== 開始處理序號 10 ==========\n",
      "影像： D:\\SfM_coral_reefs_product\\Lizard_island\\LIRS_competition_t1_DMW\\Orthos\\ortho_splits\\ortho_split_10.tif\n",
      "點圖層： D:\\ArcGIS\\AI_training\\split_points.gdb\\T10\n",
      "[10] 點數量：78，CRS：EPSG:32755 (EPSG=32755)\n"
     ]
    },
    {
     "name": "stderr",
     "output_type": "stream",
     "text": [
      "C:\\Users\\keelu\\AppData\\Local\\ESRI\\conda\\envs\\geo\\Lib\\site-packages\\torchvision\\transforms\\functional.py:1603: UserWarning: The default value of the antialias parameter of all the resizing transforms (Resize(), RandomResizedCrop(), etc.) will change from None to True in v0.17, in order to be consistent across the PIL and Tensor backends. To suppress this warning, directly pass antialias=True (recommended, future default), antialias=None (current default, which means False for Tensors and True for PIL), or antialias=False (only works on Tensors - PIL will still use antialiasing). This also applies if you are using the inference transforms from the models weights: update the call to weights.transforms(antialias=True).\n",
      "  warnings.warn(\n",
      "C:\\Users\\keelu\\AppData\\Local\\ESRI\\conda\\envs\\geo\\Lib\\site-packages\\torchvision\\transforms\\functional.py:1603: UserWarning: The default value of the antialias parameter of all the resizing transforms (Resize(), RandomResizedCrop(), etc.) will change from None to True in v0.17, in order to be consistent across the PIL and Tensor backends. To suppress this warning, directly pass antialias=True (recommended, future default), antialias=None (current default, which means False for Tensors and True for PIL), or antialias=False (only works on Tensors - PIL will still use antialiasing). This also applies if you are using the inference transforms from the models weights: update the call to weights.transforms(antialias=True).\n",
      "  warnings.warn(\n"
     ]
    },
    {
     "name": "stdout",
     "output_type": "stream",
     "text": [
      "[10] 已輸出遮罩：D:\\ArcGIS\\AI_training\\masks\\mask_10.tif\n",
      "[10] RasterToPolygon 輸出：D:\\ArcGIS\\AI_training\\geosam_output.gdb\\sam_shpraw_Z10\n",
      "[10] SpatialJoin 完成：D:\\ArcGIS\\AI_training\\shp_filtered.gdb\\sam_filtered_Z10\n",
      "[10] 已刪除小面積 0 筆，刪除最大面積 1 筆。\n",
      "[10] 填洞完成（< 0.0005 的洞）：D:\\ArcGIS\\AI_training\\shp_filtered.gdb\\sam_noholes_Z10\n",
      "[10] ✅ 完成\n",
      "\n",
      "========== 開始處理序號 11 ==========\n",
      "影像： D:\\SfM_coral_reefs_product\\Lizard_island\\LIRS_competition_t1_DMW\\Orthos\\ortho_splits\\ortho_split_11.tif\n",
      "點圖層： D:\\ArcGIS\\AI_training\\split_points.gdb\\T11\n",
      "[11] 點數量：76，CRS：EPSG:32755 (EPSG=32755)\n"
     ]
    },
    {
     "name": "stderr",
     "output_type": "stream",
     "text": [
      "C:\\Users\\keelu\\AppData\\Local\\ESRI\\conda\\envs\\geo\\Lib\\site-packages\\torchvision\\transforms\\functional.py:1603: UserWarning: The default value of the antialias parameter of all the resizing transforms (Resize(), RandomResizedCrop(), etc.) will change from None to True in v0.17, in order to be consistent across the PIL and Tensor backends. To suppress this warning, directly pass antialias=True (recommended, future default), antialias=None (current default, which means False for Tensors and True for PIL), or antialias=False (only works on Tensors - PIL will still use antialiasing). This also applies if you are using the inference transforms from the models weights: update the call to weights.transforms(antialias=True).\n",
      "  warnings.warn(\n",
      "C:\\Users\\keelu\\AppData\\Local\\ESRI\\conda\\envs\\geo\\Lib\\site-packages\\torchvision\\transforms\\functional.py:1603: UserWarning: The default value of the antialias parameter of all the resizing transforms (Resize(), RandomResizedCrop(), etc.) will change from None to True in v0.17, in order to be consistent across the PIL and Tensor backends. To suppress this warning, directly pass antialias=True (recommended, future default), antialias=None (current default, which means False for Tensors and True for PIL), or antialias=False (only works on Tensors - PIL will still use antialiasing). This also applies if you are using the inference transforms from the models weights: update the call to weights.transforms(antialias=True).\n",
      "  warnings.warn(\n"
     ]
    },
    {
     "name": "stdout",
     "output_type": "stream",
     "text": [
      "[11] 已輸出遮罩：D:\\ArcGIS\\AI_training\\masks\\mask_11.tif\n",
      "[11] RasterToPolygon 輸出：D:\\ArcGIS\\AI_training\\geosam_output.gdb\\sam_shpraw_Z11\n",
      "[11] SpatialJoin 完成：D:\\ArcGIS\\AI_training\\shp_filtered.gdb\\sam_filtered_Z11\n",
      "[11] 已刪除小面積 1 筆，刪除最大面積 1 筆。\n",
      "[11] 填洞完成（< 0.0005 的洞）：D:\\ArcGIS\\AI_training\\shp_filtered.gdb\\sam_noholes_Z11\n",
      "[11] ✅ 完成\n",
      "\n",
      "========== 開始處理序號 12 ==========\n",
      "影像： D:\\SfM_coral_reefs_product\\Lizard_island\\LIRS_competition_t1_DMW\\Orthos\\ortho_splits\\ortho_split_12.tif\n",
      "點圖層： D:\\ArcGIS\\AI_training\\split_points.gdb\\T12\n",
      "[12] 點數量：68，CRS：EPSG:32755 (EPSG=32755)\n"
     ]
    },
    {
     "name": "stderr",
     "output_type": "stream",
     "text": [
      "C:\\Users\\keelu\\AppData\\Local\\ESRI\\conda\\envs\\geo\\Lib\\site-packages\\torchvision\\transforms\\functional.py:1603: UserWarning: The default value of the antialias parameter of all the resizing transforms (Resize(), RandomResizedCrop(), etc.) will change from None to True in v0.17, in order to be consistent across the PIL and Tensor backends. To suppress this warning, directly pass antialias=True (recommended, future default), antialias=None (current default, which means False for Tensors and True for PIL), or antialias=False (only works on Tensors - PIL will still use antialiasing). This also applies if you are using the inference transforms from the models weights: update the call to weights.transforms(antialias=True).\n",
      "  warnings.warn(\n",
      "C:\\Users\\keelu\\AppData\\Local\\ESRI\\conda\\envs\\geo\\Lib\\site-packages\\torchvision\\transforms\\functional.py:1603: UserWarning: The default value of the antialias parameter of all the resizing transforms (Resize(), RandomResizedCrop(), etc.) will change from None to True in v0.17, in order to be consistent across the PIL and Tensor backends. To suppress this warning, directly pass antialias=True (recommended, future default), antialias=None (current default, which means False for Tensors and True for PIL), or antialias=False (only works on Tensors - PIL will still use antialiasing). This also applies if you are using the inference transforms from the models weights: update the call to weights.transforms(antialias=True).\n",
      "  warnings.warn(\n"
     ]
    },
    {
     "name": "stdout",
     "output_type": "stream",
     "text": [
      "[12] 已輸出遮罩：D:\\ArcGIS\\AI_training\\masks\\mask_12.tif\n",
      "[12] RasterToPolygon 輸出：D:\\ArcGIS\\AI_training\\geosam_output.gdb\\sam_shpraw_Z12\n",
      "[12] SpatialJoin 完成：D:\\ArcGIS\\AI_training\\shp_filtered.gdb\\sam_filtered_Z12\n",
      "[12] 已刪除小面積 0 筆，刪除最大面積 1 筆。\n",
      "[12] 填洞完成（< 0.0005 的洞）：D:\\ArcGIS\\AI_training\\shp_filtered.gdb\\sam_noholes_Z12\n",
      "[12] ✅ 完成\n",
      "\n",
      "========== 開始處理序號 13 ==========\n",
      "影像： D:\\SfM_coral_reefs_product\\Lizard_island\\LIRS_competition_t1_DMW\\Orthos\\ortho_splits\\ortho_split_13.tif\n",
      "點圖層： D:\\ArcGIS\\AI_training\\split_points.gdb\\T13\n",
      "[13] 點數量：157，CRS：EPSG:32755 (EPSG=32755)\n"
     ]
    },
    {
     "name": "stderr",
     "output_type": "stream",
     "text": [
      "C:\\Users\\keelu\\AppData\\Local\\ESRI\\conda\\envs\\geo\\Lib\\site-packages\\torchvision\\transforms\\functional.py:1603: UserWarning: The default value of the antialias parameter of all the resizing transforms (Resize(), RandomResizedCrop(), etc.) will change from None to True in v0.17, in order to be consistent across the PIL and Tensor backends. To suppress this warning, directly pass antialias=True (recommended, future default), antialias=None (current default, which means False for Tensors and True for PIL), or antialias=False (only works on Tensors - PIL will still use antialiasing). This also applies if you are using the inference transforms from the models weights: update the call to weights.transforms(antialias=True).\n",
      "  warnings.warn(\n",
      "C:\\Users\\keelu\\AppData\\Local\\ESRI\\conda\\envs\\geo\\Lib\\site-packages\\torchvision\\transforms\\functional.py:1603: UserWarning: The default value of the antialias parameter of all the resizing transforms (Resize(), RandomResizedCrop(), etc.) will change from None to True in v0.17, in order to be consistent across the PIL and Tensor backends. To suppress this warning, directly pass antialias=True (recommended, future default), antialias=None (current default, which means False for Tensors and True for PIL), or antialias=False (only works on Tensors - PIL will still use antialiasing). This also applies if you are using the inference transforms from the models weights: update the call to weights.transforms(antialias=True).\n",
      "  warnings.warn(\n"
     ]
    },
    {
     "name": "stdout",
     "output_type": "stream",
     "text": [
      "[13] 已輸出遮罩：D:\\ArcGIS\\AI_training\\masks\\mask_13.tif\n",
      "[13] RasterToPolygon 輸出：D:\\ArcGIS\\AI_training\\geosam_output.gdb\\sam_shpraw_Z13\n",
      "[13] SpatialJoin 完成：D:\\ArcGIS\\AI_training\\shp_filtered.gdb\\sam_filtered_Z13\n",
      "[13] 已刪除小面積 2 筆，刪除最大面積 1 筆。\n",
      "[13] 填洞完成（< 0.0005 的洞）：D:\\ArcGIS\\AI_training\\shp_filtered.gdb\\sam_noholes_Z13\n",
      "[13] ✅ 完成\n",
      "\n",
      "========== 開始處理序號 14 ==========\n",
      "影像： D:\\SfM_coral_reefs_product\\Lizard_island\\LIRS_competition_t1_DMW\\Orthos\\ortho_splits\\ortho_split_14.tif\n",
      "點圖層： D:\\ArcGIS\\AI_training\\split_points.gdb\\T14\n",
      "[14] 點數量：115，CRS：EPSG:32755 (EPSG=32755)\n"
     ]
    },
    {
     "name": "stderr",
     "output_type": "stream",
     "text": [
      "C:\\Users\\keelu\\AppData\\Local\\ESRI\\conda\\envs\\geo\\Lib\\site-packages\\torchvision\\transforms\\functional.py:1603: UserWarning: The default value of the antialias parameter of all the resizing transforms (Resize(), RandomResizedCrop(), etc.) will change from None to True in v0.17, in order to be consistent across the PIL and Tensor backends. To suppress this warning, directly pass antialias=True (recommended, future default), antialias=None (current default, which means False for Tensors and True for PIL), or antialias=False (only works on Tensors - PIL will still use antialiasing). This also applies if you are using the inference transforms from the models weights: update the call to weights.transforms(antialias=True).\n",
      "  warnings.warn(\n",
      "C:\\Users\\keelu\\AppData\\Local\\ESRI\\conda\\envs\\geo\\Lib\\site-packages\\torchvision\\transforms\\functional.py:1603: UserWarning: The default value of the antialias parameter of all the resizing transforms (Resize(), RandomResizedCrop(), etc.) will change from None to True in v0.17, in order to be consistent across the PIL and Tensor backends. To suppress this warning, directly pass antialias=True (recommended, future default), antialias=None (current default, which means False for Tensors and True for PIL), or antialias=False (only works on Tensors - PIL will still use antialiasing). This also applies if you are using the inference transforms from the models weights: update the call to weights.transforms(antialias=True).\n",
      "  warnings.warn(\n"
     ]
    },
    {
     "name": "stdout",
     "output_type": "stream",
     "text": [
      "[14] 已輸出遮罩：D:\\ArcGIS\\AI_training\\masks\\mask_14.tif\n",
      "[14] RasterToPolygon 輸出：D:\\ArcGIS\\AI_training\\geosam_output.gdb\\sam_shpraw_Z14\n",
      "[14] SpatialJoin 完成：D:\\ArcGIS\\AI_training\\shp_filtered.gdb\\sam_filtered_Z14\n",
      "[14] 已刪除小面積 0 筆，刪除最大面積 1 筆。\n",
      "[14] 填洞完成（< 0.0005 的洞）：D:\\ArcGIS\\AI_training\\shp_filtered.gdb\\sam_noholes_Z14\n",
      "[14] ✅ 完成\n",
      "\n",
      "========== 開始處理序號 15 ==========\n",
      "影像： D:\\SfM_coral_reefs_product\\Lizard_island\\LIRS_competition_t1_DMW\\Orthos\\ortho_splits\\ortho_split_15.tif\n",
      "點圖層： D:\\ArcGIS\\AI_training\\split_points.gdb\\T15\n",
      "[15] 點數量：69，CRS：EPSG:32755 (EPSG=32755)\n"
     ]
    },
    {
     "name": "stderr",
     "output_type": "stream",
     "text": [
      "C:\\Users\\keelu\\AppData\\Local\\ESRI\\conda\\envs\\geo\\Lib\\site-packages\\torchvision\\transforms\\functional.py:1603: UserWarning: The default value of the antialias parameter of all the resizing transforms (Resize(), RandomResizedCrop(), etc.) will change from None to True in v0.17, in order to be consistent across the PIL and Tensor backends. To suppress this warning, directly pass antialias=True (recommended, future default), antialias=None (current default, which means False for Tensors and True for PIL), or antialias=False (only works on Tensors - PIL will still use antialiasing). This also applies if you are using the inference transforms from the models weights: update the call to weights.transforms(antialias=True).\n",
      "  warnings.warn(\n",
      "C:\\Users\\keelu\\AppData\\Local\\ESRI\\conda\\envs\\geo\\Lib\\site-packages\\torchvision\\transforms\\functional.py:1603: UserWarning: The default value of the antialias parameter of all the resizing transforms (Resize(), RandomResizedCrop(), etc.) will change from None to True in v0.17, in order to be consistent across the PIL and Tensor backends. To suppress this warning, directly pass antialias=True (recommended, future default), antialias=None (current default, which means False for Tensors and True for PIL), or antialias=False (only works on Tensors - PIL will still use antialiasing). This also applies if you are using the inference transforms from the models weights: update the call to weights.transforms(antialias=True).\n",
      "  warnings.warn(\n"
     ]
    },
    {
     "name": "stdout",
     "output_type": "stream",
     "text": [
      "[15] 已輸出遮罩：D:\\ArcGIS\\AI_training\\masks\\mask_15.tif\n",
      "[15] RasterToPolygon 輸出：D:\\ArcGIS\\AI_training\\geosam_output.gdb\\sam_shpraw_Z15\n",
      "[15] SpatialJoin 完成：D:\\ArcGIS\\AI_training\\shp_filtered.gdb\\sam_filtered_Z15\n",
      "[15] 已刪除小面積 0 筆，刪除最大面積 1 筆。\n",
      "[15] 填洞完成（< 0.0005 的洞）：D:\\ArcGIS\\AI_training\\shp_filtered.gdb\\sam_noholes_Z15\n",
      "[15] ✅ 完成\n",
      "\n",
      "========== 開始處理序號 16 ==========\n",
      "影像： D:\\SfM_coral_reefs_product\\Lizard_island\\LIRS_competition_t1_DMW\\Orthos\\ortho_splits\\ortho_split_16.tif\n",
      "點圖層： D:\\ArcGIS\\AI_training\\split_points.gdb\\T16\n",
      "[16] 點數量：99，CRS：EPSG:32755 (EPSG=32755)\n"
     ]
    },
    {
     "name": "stderr",
     "output_type": "stream",
     "text": [
      "C:\\Users\\keelu\\AppData\\Local\\ESRI\\conda\\envs\\geo\\Lib\\site-packages\\torchvision\\transforms\\functional.py:1603: UserWarning: The default value of the antialias parameter of all the resizing transforms (Resize(), RandomResizedCrop(), etc.) will change from None to True in v0.17, in order to be consistent across the PIL and Tensor backends. To suppress this warning, directly pass antialias=True (recommended, future default), antialias=None (current default, which means False for Tensors and True for PIL), or antialias=False (only works on Tensors - PIL will still use antialiasing). This also applies if you are using the inference transforms from the models weights: update the call to weights.transforms(antialias=True).\n",
      "  warnings.warn(\n",
      "C:\\Users\\keelu\\AppData\\Local\\ESRI\\conda\\envs\\geo\\Lib\\site-packages\\torchvision\\transforms\\functional.py:1603: UserWarning: The default value of the antialias parameter of all the resizing transforms (Resize(), RandomResizedCrop(), etc.) will change from None to True in v0.17, in order to be consistent across the PIL and Tensor backends. To suppress this warning, directly pass antialias=True (recommended, future default), antialias=None (current default, which means False for Tensors and True for PIL), or antialias=False (only works on Tensors - PIL will still use antialiasing). This also applies if you are using the inference transforms from the models weights: update the call to weights.transforms(antialias=True).\n",
      "  warnings.warn(\n"
     ]
    },
    {
     "name": "stdout",
     "output_type": "stream",
     "text": [
      "[16] 已輸出遮罩：D:\\ArcGIS\\AI_training\\masks\\mask_16.tif\n",
      "[16] RasterToPolygon 輸出：D:\\ArcGIS\\AI_training\\geosam_output.gdb\\sam_shpraw_Z16\n",
      "[16] SpatialJoin 完成：D:\\ArcGIS\\AI_training\\shp_filtered.gdb\\sam_filtered_Z16\n",
      "[16] 已刪除小面積 0 筆，刪除最大面積 1 筆。\n",
      "[16] 填洞完成（< 0.0005 的洞）：D:\\ArcGIS\\AI_training\\shp_filtered.gdb\\sam_noholes_Z16\n",
      "[16] ✅ 完成\n",
      "\n",
      "=== 全部序號處理結束 ===\n"
     ]
    }
   ],
   "source": [
    "# -*- coding: utf-8 -*-\n",
    "import os\n",
    "import re\n",
    "import sys\n",
    "import arcpy\n",
    "from samgeo import SamGeo2\n",
    "import traceback\n",
    "\n",
    "# 新增：釋放記憶體需要\n",
    "import gc\n",
    "try:\n",
    "    import torch\n",
    "except ImportError:\n",
    "    torch = None\n",
    "\n",
    "# ========= 使用者需確認/可調參數 =========\n",
    "ortho_dir      = r\"D:\\SfM_coral_reefs_product\\Lizard_island\\LIRS_competition_t1_DMW\\Orthos\\ortho_splits\"   # 正射影像資料夾\n",
    "points_gdb     = r\"D:\\ArcGIS\\AI_training\\split_points.gdb\"                        # 點圖層所在 GDB (含 T1, T2,...)\n",
    "mask_dir       = r\"D:\\ArcGIS\\AI_training\\masks\"                                   # 二值遮罩輸出資料夾 (GeoTIFF)\n",
    "poly_gdb       = r\"D:\\ArcGIS\\AI_training\\geosam_output.gdb\"                       # RasterToPolygon 輸出 GDB\n",
    "filtered_gdb   = r\"D:\\ArcGIS\\AI_training\\shp_filtered.gdb\"                        # SpatialJoin/過濾/填洞輸出 GDB\n",
    "\n",
    "model_id       = \"sam2-hiera-small\"\n",
    "small_area_threshold = 0.00001    # 刪除過小面積門檻\n",
    "hole_area_threshold  = 0.0005     # EliminatePolygonPart 填洞門檻\n",
    "# =====================================\n",
    "\n",
    "arcpy.env.overwriteOutput = True\n",
    "\n",
    "# 確保輸出容器存在\n",
    "os.makedirs(mask_dir, exist_ok=True)\n",
    "for gdb in [poly_gdb, filtered_gdb]:\n",
    "    if not arcpy.Exists(gdb):\n",
    "        arcpy.management.CreateFileGDB(os.path.dirname(gdb),\n",
    "                                       os.path.splitext(os.path.basename(gdb))[0])\n",
    "\n",
    "# 讀取ArcGIS Pro專案(可選，主要用來印環境資訊)\n",
    "try:\n",
    "    aprx = arcpy.mp.ArcGISProject(\"CURRENT\")\n",
    "    print(\"專案路徑：\", aprx.filePath)\n",
    "    print(\"預設 gdb：\", aprx.defaultGeodatabase)\n",
    "    print(\"專案資料夾：\", aprx.homeFolder)\n",
    "    if aprx.activeMap:\n",
    "        print(\"目前 Map 名稱:\", aprx.activeMap.name)\n",
    "        sr = aprx.activeMap.spatialReference\n",
    "        if sr:\n",
    "            print(\"Map 空間參考:\", sr.name, sr.factoryCode)\n",
    "except Exception as e:\n",
    "    print(\"取得 ArcGIS Project 資訊時發生非致命錯誤：\", e)\n",
    "\n",
    "print(\"Python 可執行檔：\", sys.executable)\n",
    "print(\"Conda 環境路徑：\", sys.prefix)\n",
    "\n",
    "# 掃描影像：ortho_split_XX.tif，擷取序號\n",
    "ortho_pat = re.compile(r\"^ortho_split_(\\d{2})\\.tif$\", re.IGNORECASE)\n",
    "ortho_map = {}  # {'01': full_path, ...}\n",
    "for fn in os.listdir(ortho_dir):\n",
    "    m = ortho_pat.match(fn)\n",
    "    if m:\n",
    "        key = m.group(1)  # 兩位數序號字串\n",
    "        ortho_map[key] = os.path.join(ortho_dir, fn)\n",
    "\n",
    "# 掃描點圖層：T1、T2…（支援無前導零）\n",
    "point_map = {}  # {'01': featureclass_path, ...}\n",
    "arcpy.env.workspace = points_gdb\n",
    "for fc in arcpy.ListFeatureClasses():\n",
    "    m = re.match(r\"^T(\\d+)$\", fc, re.IGNORECASE)\n",
    "    if m:\n",
    "        n = int(m.group(1))\n",
    "        key = f\"{n:02d}\"\n",
    "        point_map[key] = os.path.join(points_gdb, fc)\n",
    "\n",
    "# 取兩者交集序號（同時存在的配對才處理）\n",
    "common_keys = sorted(set(ortho_map.keys()) & set(point_map.keys()))\n",
    "if not common_keys:\n",
    "    raise RuntimeError(\"找不到任何影像與點圖層的對應配對，請檢查檔名/圖層名規則。\")\n",
    "\n",
    "print(\"將處理以下配對序號：\", common_keys)\n",
    "\n",
    "# 🔥 移除：原本的「初始化 SAM 模型（只建立一次）」——你要每回合各自建，避免狀態殘留\n",
    "# sam = SamGeo2(model_id=model_id, automatic=False)\n",
    "\n",
    "def get_point_coords_and_crs(points_fc):\n",
    "    \"\"\"回傳 (coords_list, point_crs_str, epsg_int or None)\"\"\"\n",
    "    coords = []\n",
    "    with arcpy.da.SearchCursor(points_fc, [\"SHAPE@X\", \"SHAPE@Y\"], where_clause=\"Shape IS NOT NULL\") as cur:\n",
    "        for x, y in cur:\n",
    "            coords.append([x, y])\n",
    "    sr = arcpy.Describe(points_fc).spatialReference\n",
    "    epsg = sr.factoryCode\n",
    "    if epsg and int(epsg) > 0:\n",
    "        point_crs = f\"EPSG:{int(epsg)}\"\n",
    "    else:\n",
    "        point_crs = sr.exportToString()\n",
    "    return coords, point_crs, (int(epsg) if epsg else None)\n",
    "\n",
    "def raster_to_polygon(in_ras, out_gdb, out_name):\n",
    "    out_fc = os.path.join(out_gdb, out_name)\n",
    "    arcpy.conversion.RasterToPolygon(in_ras, out_fc)  # 保持你原本的呼叫樣式\n",
    "    return out_fc\n",
    "\n",
    "def spatial_join_keep_polys(polys_fc, points_fc, out_fc):\n",
    "    fm = arcpy.FieldMappings()\n",
    "    fm.addTable(polys_fc)\n",
    "    arcpy.analysis.SpatialJoin(\n",
    "        target_features=polys_fc,\n",
    "        join_features=points_fc,\n",
    "        out_feature_class=out_fc,\n",
    "        join_operation=\"JOIN_ONE_TO_ONE\",\n",
    "        join_type=\"KEEP_COMMON\",\n",
    "        field_mapping=fm,\n",
    "        match_option=\"CONTAINS\"\n",
    "    )\n",
    "\n",
    "def delete_small_and_largest(out_fc, small_thresh):\n",
    "    oid_field = arcpy.Describe(out_fc).oidFieldName\n",
    "    max_oid, max_area = None, float(\"-inf\")\n",
    "    with arcpy.da.SearchCursor(out_fc, [oid_field, \"SHAPE@AREA\"]) as cur:\n",
    "        for oid, area in cur:\n",
    "            if area is not None and area > max_area:\n",
    "                max_area = area\n",
    "                max_oid = oid\n",
    "    deleted_small = 0\n",
    "    with arcpy.da.UpdateCursor(out_fc, [oid_field, \"SHAPE@AREA\"]) as ucur:\n",
    "        for oid, area in ucur:\n",
    "            if area is not None and area < small_thresh:\n",
    "                ucur.deleteRow()\n",
    "                deleted_small += 1\n",
    "    deleted_max = 0\n",
    "    if max_oid is not None:\n",
    "        with arcpy.da.UpdateCursor(out_fc, [oid_field]) as ucur2:\n",
    "            for oid, in ucur2:\n",
    "                if oid == max_oid:\n",
    "                    ucur2.deleteRow()\n",
    "                    deleted_max = 1\n",
    "                    break\n",
    "    return deleted_small, deleted_max\n",
    "\n",
    "def eliminate_holes(in_fc, out_fc, hole_thresh):\n",
    "    arcpy.management.EliminatePolygonPart(\n",
    "        in_features=in_fc,\n",
    "        out_feature_class=out_fc,\n",
    "        condition=\"AREA\",\n",
    "        part_area=hole_thresh,\n",
    "        part_option=\"CONTAINED_ONLY\"\n",
    "    )\n",
    "\n",
    "# ===== 主迴圈 =====\n",
    "for key in common_keys:\n",
    "    ortho = ortho_map[key]\n",
    "    points_fc = point_map[key]\n",
    "    print(\"\\n========== 開始處理序號\", key, \"==========\")\n",
    "    print(\"影像：\", ortho)\n",
    "    print(\"點圖層：\", points_fc)\n",
    "\n",
    "    sam = None  # for safety: 保證 finally 可以刪除\n",
    "    try:\n",
    "        coords, point_crs, epsg = get_point_coords_and_crs(points_fc)\n",
    "        if not coords:\n",
    "            print(f\"[{key}] 無有效點位，跳過。\")\n",
    "            continue\n",
    "        print(f\"[{key}] 點數量：{len(coords)}，CRS：{point_crs} (EPSG={epsg})\")\n",
    "\n",
    "        # ❶ 每一回合各自建 SamGeo2（避免狀態殘留）\n",
    "        sam = SamGeo2(model_id=model_id, automatic=False)\n",
    "        sam.set_image(ortho)\n",
    "\n",
    "        mask_path = os.path.join(mask_dir, f\"mask_{key}.tif\")\n",
    "\n",
    "        try:\n",
    "            # 先用「非批次」格式（你的原始寫法）\n",
    "            sam.predict_by_points(\n",
    "                point_coords_batch=coords,   # [[x,y], ...]\n",
    "                point_crs=point_crs,\n",
    "                output=mask_path,\n",
    "                dtype=\"uint8\",\n",
    "            )\n",
    "        except Exception as e:\n",
    "            msg = str(e)\n",
    "            # ❷ 若遇到 batched 錯誤，改用 batched 形式再試一次\n",
    "            if \"only be used when in batched mode\" in msg:\n",
    "                print(f\"[{key}] 偵測到 batched 模式錯誤，改用 batched 輸入重試...\")\n",
    "                # 重新建一個，保險\n",
    "                if sam is not None:\n",
    "                    del sam\n",
    "                sam = SamGeo2(model_id=model_id, automatic=False)\n",
    "                sam.set_image(ortho)\n",
    "                sam.predict_by_points(\n",
    "                    point_coords_batch=[coords],  # [[[x,y], ...]] ← 多包一層\n",
    "                    point_crs=point_crs,\n",
    "                    output=mask_path,\n",
    "                    dtype=\"uint8\",\n",
    "                )\n",
    "            else:\n",
    "                raise\n",
    "\n",
    "        print(f\"[{key}] 已輸出遮罩：{mask_path}\")\n",
    "\n",
    "        # 後續流程保持你原本寫法\n",
    "        shpraw_name = f\"sam_shpraw_Z{int(key)}\"\n",
    "        polys_fc = raster_to_polygon(mask_path, poly_gdb, shpraw_name)\n",
    "        print(f\"[{key}] RasterToPolygon 輸出：{polys_fc}\")\n",
    "\n",
    "        filtered_name = f\"sam_filtered_Z{int(key)}\"\n",
    "        filtered_fc = os.path.join(filtered_gdb, filtered_name)\n",
    "        spatial_join_keep_polys(polys_fc, points_fc, filtered_fc)\n",
    "        print(f\"[{key}] SpatialJoin 完成：{filtered_fc}\")\n",
    "\n",
    "        deleted_small, deleted_max = delete_small_and_largest(filtered_fc, small_area_threshold)\n",
    "        print(f\"[{key}] 已刪除小面積 {deleted_small} 筆，刪除最大面積 {deleted_max} 筆。\")\n",
    "\n",
    "        noholes_name = f\"sam_noholes_Z{int(key)}\"\n",
    "        noholes_fc = os.path.join(filtered_gdb, noholes_name)\n",
    "        eliminate_holes(filtered_fc, noholes_fc, hole_area_threshold)\n",
    "        print(f\"[{key}] 填洞完成（< {hole_area_threshold} 的洞）：{noholes_fc}\")\n",
    "\n",
    "        print(f\"[{key}] ✅ 完成\")\n",
    "\n",
    "    except Exception as e:\n",
    "        print(f\"[{key}] ❌ 發生錯誤：{e}\")\n",
    "        # 想看堆疊可開啟：\n",
    "        # print(traceback.format_exc())\n",
    "    finally:\n",
    "        # ✅ 無論成功或失敗，都釋放顯卡記憶體\n",
    "        try:\n",
    "            if sam is not None:\n",
    "                del sam\n",
    "        except Exception:\n",
    "            pass\n",
    "        gc.collect()\n",
    "        if torch is not None and hasattr(torch, \"cuda\") and torch.cuda.is_available():\n",
    "            try:\n",
    "                torch.cuda.empty_cache()\n",
    "            except Exception:\n",
    "                pass\n",
    "\n",
    "print(\"\\n=== 全部序號處理結束 ===\")\n"
   ]
  }
 ],
 "metadata": {
  "kernelspec": {
   "display_name": "ArcGISPro",
   "language": "python",
   "name": "python3"
  },
  "language_info": {
   "file_extension": ".py",
   "mimetype": "text/x-python",
   "name": "python",
   "version": "3.11.10"
  }
 },
 "nbformat": 4,
 "nbformat_minor": 4
}
