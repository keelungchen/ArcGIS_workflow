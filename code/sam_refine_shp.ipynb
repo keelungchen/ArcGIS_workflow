{
 "cells": [
  {
   "cell_type": "code",
   "execution_count": 68,
   "metadata": {},
   "outputs": [
    {
     "name": "stdout",
     "output_type": "stream",
     "text": [
      "專案路徑： D:\\ArcGIS\\AI_training\\AI_training.aprx\n",
      "預設 gdb： D:\\ArcGIS\\AI_training\\AI_training.gdb\n",
      "專案資料夾： D:\\ArcGIS\\AI_training\n",
      "目前 Map 名稱: KBay\n",
      "圖層空間參考: WGS_1984_UTM_Zone_4N 32604\n",
      "C:\\Program Files\\ArcGIS\\Pro\\bin\\ArcGISPro.exe\n",
      "Conda 環境路徑: C:\\Users\\keelu\\AppData\\Local\\ESRI\\conda\\envs\\geo\n"
     ]
    }
   ],
   "source": [
    "import os\n",
    "import arcpy\n",
    "from samgeo import SamGeo2, regularize\n",
    "import sys\n",
    "\n",
    "# 取得目前開啟的 ArcGIS Pro 專案\n",
    "aprx = arcpy.mp.ArcGISProject(\"CURRENT\")\n",
    "\n",
    "print(\"專案路徑：\", aprx.filePath)              # .aprx 檔案完整路徑\n",
    "print(\"預設 gdb：\", aprx.defaultGeodatabase)   # 預設的 geodatabase\n",
    "print(\"專案資料夾：\", aprx.homeFolder)         # 專案所在的資料夾 (home folder)\n",
    "\n",
    "# 取得目前活動的 Map (通常就是你 ArcGIS Pro 視窗左邊的那個)\n",
    "m = aprx.activeMap\n",
    "\n",
    "print(\"目前 Map 名稱:\", m.name)\n",
    "\n",
    "sr = m.spatialReference\n",
    "print(\"圖層空間參考:\", sr.name, sr.factoryCode)\n",
    "\n",
    "# 檢查工作環境路徑與python版本\n",
    "print(sys.executable)\n",
    "print(\"Conda 環境路徑:\", sys.prefix)"
   ]
  },
  {
   "cell_type": "code",
   "execution_count": 143,
   "metadata": {},
   "outputs": [
    {
     "name": "stdout",
     "output_type": "stream",
     "text": [
      "共有 138 個點\n",
      "example of point_coords_batch = [[624604.6014, 2373480.101399999]]\n",
      "座標系名稱: WGS_1984_UTM_Zone_4N\n",
      "EPSG 代碼: 32604\n",
      "SAM2 要用的 point_crs: EPSG:32604\n"
     ]
    }
   ],
   "source": [
    "# ---- 1) 輸入與輸出路徑設定 ----\n",
    "ortho = r\"D:\\SfM_coral_reefs_product\\KaneoheBay\\2025\\k2b\\ortho_splits\\ortho_split_04.tif\"                 # 你的正射影像\n",
    "points_fc = r\"D:\\ArcGIS\\AI_training\\split_points.gdb\\T4\"       # 你的點圖層（可含 label 欄位）\n",
    "label_field = \"label\"                            # 若無此欄位，程式會預設所有點為 1（正點）\n",
    "\n",
    "out_workspace = r\"D:\\ArcGIS\\AI_training\\AI_training.gdb\"                # 結果輸出 GDB\n",
    "\n",
    "# 取得座標數量\n",
    "count = int(arcpy.management.GetCount(points_fc)[0])\n",
    "print(f\"共有 {count} 個點\")\n",
    "\n",
    "# 轉成 [ [x, y], ... ] 格式\n",
    "point_coords_batch = []\n",
    "with arcpy.da.SearchCursor(points_fc, [\"SHAPE@X\", \"SHAPE@Y\"], where_clause=\"Shape IS NOT NULL\") as cur:\n",
    "    for x, y in cur:\n",
    "        point_coords_batch.append([x, y])\n",
    "\n",
    "# 印出結果（前幾筆檢查）\n",
    "print(\"example of point_coords_batch =\", point_coords_batch[:1])\n",
    "\n",
    "# 取得 SpatialReference 物件\n",
    "sr = arcpy.Describe(points_fc).spatialReference\n",
    "# EPSG 代碼\n",
    "epsg = sr.factoryCode\n",
    "if epsg and int(epsg) > 0:\n",
    "    point_crs = f\"EPSG:{int(epsg)}\"\n",
    "else:\n",
    "    # 如果沒有 EPSG，則輸出 WKT 字串\n",
    "    point_crs = sr.exportToString()\n",
    "print(\"座標系名稱:\", sr.name)\n",
    "print(\"EPSG 代碼:\", epsg)\n",
    "print(\"SAM2 要用的 point_crs:\", point_crs)"
   ]
  },
  {
   "cell_type": "code",
   "execution_count": 144,
   "metadata": {},
   "outputs": [],
   "source": [
    "sam = SamGeo2(model_id=\"sam2-hiera-small\", automatic=False)"
   ]
  },
  {
   "cell_type": "code",
   "execution_count": 145,
   "metadata": {},
   "outputs": [
    {
     "name": "stderr",
     "output_type": "stream",
     "text": [
      "C:\\Users\\keelu\\AppData\\Local\\ESRI\\conda\\envs\\geo\\Lib\\site-packages\\torchvision\\transforms\\functional.py:1603: UserWarning: The default value of the antialias parameter of all the resizing transforms (Resize(), RandomResizedCrop(), etc.) will change from None to True in v0.17, in order to be consistent across the PIL and Tensor backends. To suppress this warning, directly pass antialias=True (recommended, future default), antialias=None (current default, which means False for Tensors and True for PIL), or antialias=False (only works on Tensors - PIL will still use antialiasing). This also applies if you are using the inference transforms from the models weights: update the call to weights.transforms(antialias=True).\n",
      "  warnings.warn(\n"
     ]
    }
   ],
   "source": [
    "# 指定影像\n",
    "sam.set_image(ortho)"
   ]
  },
  {
   "cell_type": "code",
   "execution_count": 146,
   "metadata": {
    "scrolled": true
   },
   "outputs": [
    {
     "name": "stderr",
     "output_type": "stream",
     "text": [
      "C:\\Users\\keelu\\AppData\\Local\\ESRI\\conda\\envs\\geo\\Lib\\site-packages\\torchvision\\transforms\\functional.py:1603: UserWarning: The default value of the antialias parameter of all the resizing transforms (Resize(), RandomResizedCrop(), etc.) will change from None to True in v0.17, in order to be consistent across the PIL and Tensor backends. To suppress this warning, directly pass antialias=True (recommended, future default), antialias=None (current default, which means False for Tensors and True for PIL), or antialias=False (only works on Tensors - PIL will still use antialiasing). This also applies if you are using the inference transforms from the models weights: update the call to weights.transforms(antialias=True).\n",
      "  warnings.warn(\n"
     ]
    }
   ],
   "source": [
    "# 進行點提示分割，輸出二值遮罩（uint8；1=物件，0=背景）\n",
    "sam.predict_by_points(\n",
    "    point_coords_batch=point_coords_batch,     # ✅ 直接丟 coords，不要 [coords]\n",
    "    point_crs= point_crs,\n",
    "    output=\"mask_4.tif\",\n",
    "    dtype=\"uint8\",\n",
    ")"
   ]
  },
  {
   "cell_type": "code",
   "execution_count": 147,
   "metadata": {},
   "outputs": [
    {
     "data": {
      "text/html": [
       "<div class='gpresult'><h2 class='msg-title'>Messages</h2><div id='messages'>Start Time: Saturday, August 16, 2025 8:45:19 PM<br>Succeeded at Saturday, August 16, 2025 8:45:19 PM (Elapsed Time: 0.41 seconds)<br></div><div id = 'default' /></div></div>"
      ],
      "text/plain": [
       "<Result 'D:\\\\ArcGIS\\\\AI_training\\\\geosam_output.gdb\\\\sam2_mask_Z4'>"
      ]
     },
     "execution_count": 147,
     "metadata": {},
     "output_type": "execute_result"
    }
   ],
   "source": [
    "workspace = arcpy.env.workspace\n",
    "in_raster = os.path.join(workspace, \"mask_4.tif\")\n",
    "\n",
    "# 指定 File GDB\n",
    "gdb_path = os.path.join(workspace, \"geosam_output.gdb\")\n",
    "\n",
    "# 設定輸出 Feature Class 名稱（不需要 .shp）\n",
    "out_fc = os.path.join(gdb_path, \"sam_shpraw_Z4\")\n",
    "\n",
    "# 執行轉換\n",
    "arcpy.conversion.RasterToPolygon(in_raster, out_fc)"
   ]
  },
  {
   "cell_type": "code",
   "execution_count": 148,
   "metadata": {},
   "outputs": [
    {
     "name": "stdout",
     "output_type": "stream",
     "text": [
      "完成：輸出 D:\\ArcGIS\\AI_training\\shp_filtered.gdb\\sam_filtered_Z4，刪除小面積 0 筆、刪除最大面積 1 筆。\n"
     ]
    }
   ],
   "source": [
    "arcpy.env.overwriteOutput = True\n",
    "\n",
    "# 各自的 GDB 路徑\n",
    "poly_gdb  = r\"D:\\ArcGIS\\AI_training\\geosam_output.gdb\"   # 多邊形所在 gdb\n",
    "point_gdb = r\"D:\\ArcGIS\\AI_training\\split_points.gdb\"    # 點所在 gdb\n",
    "out_gdb   = r\"D:\\ArcGIS\\AI_training\\shp_filtered.gdb\"    # 輸出 gdb\n",
    "\n",
    "# 各 Feature Class 完整路徑\n",
    "polys_path  = os.path.join(poly_gdb,  \"sam_shpraw_Z4\")       # 多邊形 FC\n",
    "points_path = os.path.join(point_gdb, \"T4\")                  # 點 FC\n",
    "out_fc      = os.path.join(out_gdb,   \"sam_filtered_Z4\")     # 輸出 FC（不要 .shp）\n",
    "\n",
    "# 若輸出 gdb 不存在就建立\n",
    "if not arcpy.Exists(out_gdb):\n",
    "    arcpy.management.CreateFileGDB(os.path.dirname(out_gdb),\n",
    "                                   os.path.splitext(os.path.basename(out_gdb))[0])\n",
    "\n",
    "# --- 1) Spatial Join：只保留多邊形欄位 ---\n",
    "fm = arcpy.FieldMappings()\n",
    "fm.addTable(polys_path)  # 只加入多邊形欄位，不加入點欄位\n",
    "\n",
    "arcpy.analysis.SpatialJoin(\n",
    "    target_features=polys_path,\n",
    "    join_features=points_path,\n",
    "    out_feature_class=out_fc,\n",
    "    join_operation=\"JOIN_ONE_TO_ONE\",\n",
    "    join_type=\"KEEP_COMMON\",      # 只保留與點相交的多邊形\n",
    "    field_mapping=fm,             # 關鍵：不帶入點的欄位\n",
    "    match_option=\"CONTAINS\"      # 嚴格包含可改 \"CONTAINS_CLEMENTINI\"\n",
    ")\n",
    "\n",
    "# --- 2) 找出最大面積要素的 OID（用 SHAPE@AREA，不用新增欄位） ---\n",
    "oid_field = arcpy.Describe(out_fc).oidFieldName\n",
    "max_oid, max_area = None, float(\"-inf\")\n",
    "with arcpy.da.SearchCursor(out_fc, [oid_field, \"SHAPE@AREA\"]) as cur:\n",
    "    for oid, area in cur:\n",
    "        if area is not None and area > max_area:\n",
    "            max_area = area\n",
    "            max_oid = oid\n",
    "\n",
    "# --- 3) 刪除：面積 < 門檻 + 面積最大者 ---\n",
    "threshold = 0.00001  # 你的門檻；單位依圖層座標系而定\n",
    "deleted_small = 0\n",
    "deleted_max   = 0\n",
    "\n",
    "with arcpy.da.UpdateCursor(out_fc, [oid_field, \"SHAPE@AREA\"]) as ucur:\n",
    "    for oid, area in ucur:\n",
    "        if area is None:\n",
    "            continue\n",
    "        # 先刪面積過小的\n",
    "        if area < threshold:\n",
    "            ucur.deleteRow()\n",
    "            deleted_small += 1\n",
    "\n",
    "# 再刪「最大面積」那一筆（若還存在）\n",
    "if max_oid is not None:\n",
    "    found_max = False\n",
    "    with arcpy.da.UpdateCursor(out_fc, [oid_field]) as ucur2:\n",
    "        for oid, in ucur2:\n",
    "            if oid == max_oid:\n",
    "                ucur2.deleteRow()\n",
    "                deleted_max = 1\n",
    "                found_max = True\n",
    "                break\n",
    "    # 可選：如果最大那筆剛好已被門檻刪掉，不需再做任何事\n",
    "    if not found_max:\n",
    "        deleted_max = 0\n",
    "\n",
    "print(f\"完成：輸出 {out_fc}，刪除小面積 {deleted_small} 筆、刪除最大面積 {deleted_max} 筆。\")"
   ]
  },
  {
   "cell_type": "code",
   "execution_count": 149,
   "metadata": {},
   "outputs": [
    {
     "name": "stdout",
     "output_type": "stream",
     "text": [
      "完成：小於 0.0005 單位² 的洞已填補 → D:\\ArcGIS\\AI_training\\shp_filtered.gdb\\sam_noholes_Z4\n"
     ]
    }
   ],
   "source": [
    "out_fc   = r\"D:\\ArcGIS\\AI_training\\shp_filtered.gdb\\sam_filtered_Z4\"\n",
    "out_fc_noholes = r\"D:\\ArcGIS\\AI_training\\shp_filtered.gdb\\sam_noholes_Z4\"\n",
    "\n",
    "# 門檻（小於此面積的「洞」會被填掉）\n",
    "hole_area_threshold = 0.0005  # 單位依圖層座標系統而定\n",
    "\n",
    "arcpy.management.EliminatePolygonPart(\n",
    "    in_features=out_fc,\n",
    "    out_feature_class=out_fc_noholes,\n",
    "    condition=\"AREA\",                  # 以面積當條件；也可用 \"PERCENT\"\n",
    "    part_area=hole_area_threshold,     # 面積門檻\n",
    "    part_option=\"CONTAINED_ONLY\"       # 只移除完全被外環包住的部分（即洞）\n",
    ")\n",
    "\n",
    "print(f\"完成：小於 {hole_area_threshold} 單位² 的洞已填補 → {out_fc_noholes}\")"
   ]
  }
 ],
 "metadata": {
  "kernelspec": {
   "display_name": "ArcGISPro",
   "language": "python",
   "name": "python3"
  },
  "language_info": {
   "file_extension": ".py",
   "mimetype": "text/x-python",
   "name": "python",
   "version": "3.11.10"
  }
 },
 "nbformat": 4,
 "nbformat_minor": 4
}
